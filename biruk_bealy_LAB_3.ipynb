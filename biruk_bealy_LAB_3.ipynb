{
 "cells": [
  {
   "cell_type": "markdown",
   "id": "2e5511e5",
   "metadata": {},
   "source": [
    "NAME: Biruk Bealy\n",
    "ID:   ATR/1266/10\n",
    "Section: 2"
   ]
  },
  {
   "cell_type": "code",
   "execution_count": 1,
   "id": "8b58922a",
   "metadata": {},
   "outputs": [],
   "source": [
    "# 0 Import all the necessary files"
   ]
  },
  {
   "cell_type": "code",
   "execution_count": null,
   "id": "d941ebbb",
   "metadata": {},
   "outputs": [],
   "source": []
  },
  {
   "cell_type": "code",
   "execution_count": 2,
   "id": "f764d300",
   "metadata": {},
   "outputs": [],
   "source": [
    "from sklearn.neighbors import KNeighborsClassifier\n",
    "from sklearn.linear_model import LogisticRegression\n",
    "from sklearn.ensemble import GradientBoostingClassifier\n",
    "from sklearn.discriminant_analysis import LinearDiscriminantAnalysis\n",
    "from sklearn.discriminant_analysis import QuadraticDiscriminantAnalysis\n",
    "from sklearn.tree import DecisionTreeClassifier\n",
    "from sklearn.ensemble import RandomForestClassifier\n",
    "from sklearn.preprocessing import LabelBinarizer,LabelEncoder\n",
    "from sklearn.model_selection import train_test_split\n",
    "from sklearn.metrics import classification_report\n",
    "from sklearn.metrics import confusion_matrix,roc_auc_score,plot_roc_curve,auc,roc_curve\n",
    "from PIL import Image\n",
    "from imutils import paths\n",
    "import numpy as np\n",
    "import os\n",
    "import random\n",
    "import shutil\n",
    "import cv2\n",
    "import mahotas as mt\n",
    "import matplotlib.pyplot as plt\n",
    "import itertools\n",
    "from sklearn.tree import export_graphviz\n",
    "import pandas as pd"
   ]
  },
  {
   "cell_type": "code",
   "execution_count": 3,
   "id": "cb15900c",
   "metadata": {},
   "outputs": [],
   "source": [
    "# 1. Save the features in the form of csv"
   ]
  },
  {
   "cell_type": "code",
   "execution_count": null,
   "id": "867c0025",
   "metadata": {},
   "outputs": [],
   "source": []
  },
  {
   "cell_type": "code",
   "execution_count": 4,
   "id": "1e6f845c",
   "metadata": {},
   "outputs": [],
   "source": [
    "def extractFeatures(image):\n",
    "    textures = mt.features.haralick(image)\n",
    "    ht_mean = textures.mean(axis=0)\n",
    "    return ht_mean"
   ]
  },
  {
   "cell_type": "code",
   "execution_count": 5,
   "id": "c7da3a12",
   "metadata": {},
   "outputs": [],
   "source": [
    "def fdHistogram(image,mask=None):\n",
    "    image = cv2.cvtColor(image,cv2.COLOR_BGR2HSV)\n",
    "    hist = cv2.calcHist([image],[0,1,2],None,[bins,bins,bins],[0,256,0,256,0,256])\n",
    "    cv2.normalize(hist,hist)\n",
    "    return hist.flatten()"
   ]
  },
  {
   "cell_type": "code",
   "execution_count": 6,
   "id": "a9de4938",
   "metadata": {},
   "outputs": [],
   "source": [
    "def fd_hu_moments(image):\n",
    "    image = cv2.cvtColor(image,cv2.COLOR_BGR2GRAY)\n",
    "    feature = cv2.HuMoments(cv2.moments(image)).flatten()\n",
    "    return feature"
   ]
  },
  {
   "cell_type": "code",
   "execution_count": 7,
   "id": "e6fca248",
   "metadata": {},
   "outputs": [],
   "source": [
    "imagePaths = sorted(list(paths.list_images(\"dataset\")))\n",
    "\n",
    "random.seed(42)\n",
    "random.shuffle(imagePaths)\n",
    "global_feature = []\n",
    "data = []\n",
    "labels = []\n",
    "IMAGE_DIMS = (50,50,1)\n",
    "bins = 8"
   ]
  },
  {
   "cell_type": "code",
   "execution_count": 8,
   "id": "3aa10e08",
   "metadata": {},
   "outputs": [
    {
     "name": "stdout",
     "output_type": "stream",
     "text": [
      "Health Status :  ['Status_Healthy' 'Status_infected']\n"
     ]
    }
   ],
   "source": [
    "for imagePath in imagePaths:\n",
    "    image = cv2.imread(imagePath)\n",
    "    image = cv2.resize(image,(IMAGE_DIMS[1],IMAGE_DIMS[0]))\n",
    "    fv_histogram = fdHistogram(image)\n",
    "    fv_hu_moments = fd_hu_moments(image)\n",
    "    features = extractFeatures(image)\n",
    "    global_feature = np.hstack([fv_histogram,features,fv_hu_moments])\n",
    "    data.append(global_feature)\n",
    "    l = label = imagePath.split(os.path.sep)[-2]\n",
    "    labels.append(l) \n",
    "    \n",
    "lb = LabelEncoder()\n",
    "label = lb.fit_transform(labels)\n",
    "print( \"Health Status : \" ,  lb.classes_)"
   ]
  },
  {
   "cell_type": "code",
   "execution_count": 9,
   "id": "41fe36b4",
   "metadata": {},
   "outputs": [
    {
     "data": {
      "text/html": [
       "<div>\n",
       "<style scoped>\n",
       "    .dataframe tbody tr th:only-of-type {\n",
       "        vertical-align: middle;\n",
       "    }\n",
       "\n",
       "    .dataframe tbody tr th {\n",
       "        vertical-align: top;\n",
       "    }\n",
       "\n",
       "    .dataframe thead th {\n",
       "        text-align: right;\n",
       "    }\n",
       "</style>\n",
       "<table border=\"1\" class=\"dataframe\">\n",
       "  <thead>\n",
       "    <tr style=\"text-align: right;\">\n",
       "      <th></th>\n",
       "      <th>0</th>\n",
       "      <th>1</th>\n",
       "      <th>2</th>\n",
       "      <th>3</th>\n",
       "      <th>4</th>\n",
       "      <th>5</th>\n",
       "      <th>6</th>\n",
       "      <th>7</th>\n",
       "      <th>8</th>\n",
       "      <th>9</th>\n",
       "      <th>...</th>\n",
       "      <th>522</th>\n",
       "      <th>523</th>\n",
       "      <th>524</th>\n",
       "      <th>525</th>\n",
       "      <th>526</th>\n",
       "      <th>527</th>\n",
       "      <th>528</th>\n",
       "      <th>529</th>\n",
       "      <th>530</th>\n",
       "      <th>531</th>\n",
       "    </tr>\n",
       "  </thead>\n",
       "  <tbody>\n",
       "    <tr>\n",
       "      <th>0</th>\n",
       "      <td>0.380585</td>\n",
       "      <td>0.0</td>\n",
       "      <td>0.0</td>\n",
       "      <td>0.0</td>\n",
       "      <td>0.0</td>\n",
       "      <td>0.0</td>\n",
       "      <td>0.0</td>\n",
       "      <td>0.0</td>\n",
       "      <td>0.000000</td>\n",
       "      <td>0.000000</td>\n",
       "      <td>...</td>\n",
       "      <td>4.687530</td>\n",
       "      <td>-0.389468</td>\n",
       "      <td>0.991609</td>\n",
       "      <td>0.000927</td>\n",
       "      <td>3.568325e-08</td>\n",
       "      <td>1.258638e-12</td>\n",
       "      <td>6.158524e-14</td>\n",
       "      <td>7.848554e-27</td>\n",
       "      <td>6.004156e-19</td>\n",
       "      <td>-1.524431e-26</td>\n",
       "    </tr>\n",
       "    <tr>\n",
       "      <th>1</th>\n",
       "      <td>0.778153</td>\n",
       "      <td>0.0</td>\n",
       "      <td>0.0</td>\n",
       "      <td>0.0</td>\n",
       "      <td>0.0</td>\n",
       "      <td>0.0</td>\n",
       "      <td>0.0</td>\n",
       "      <td>0.0</td>\n",
       "      <td>0.003626</td>\n",
       "      <td>0.000725</td>\n",
       "      <td>...</td>\n",
       "      <td>3.893610</td>\n",
       "      <td>-0.474808</td>\n",
       "      <td>0.993637</td>\n",
       "      <td>0.001308</td>\n",
       "      <td>2.210277e-07</td>\n",
       "      <td>4.313838e-10</td>\n",
       "      <td>3.658892e-11</td>\n",
       "      <td>3.745708e-21</td>\n",
       "      <td>1.682856e-14</td>\n",
       "      <td>-2.664640e-21</td>\n",
       "    </tr>\n",
       "    <tr>\n",
       "      <th>2</th>\n",
       "      <td>0.483936</td>\n",
       "      <td>0.0</td>\n",
       "      <td>0.0</td>\n",
       "      <td>0.0</td>\n",
       "      <td>0.0</td>\n",
       "      <td>0.0</td>\n",
       "      <td>0.0</td>\n",
       "      <td>0.0</td>\n",
       "      <td>0.000000</td>\n",
       "      <td>0.000000</td>\n",
       "      <td>...</td>\n",
       "      <td>4.752973</td>\n",
       "      <td>-0.398878</td>\n",
       "      <td>0.993179</td>\n",
       "      <td>0.000988</td>\n",
       "      <td>3.986148e-08</td>\n",
       "      <td>1.652247e-11</td>\n",
       "      <td>5.547954e-13</td>\n",
       "      <td>-8.945159e-25</td>\n",
       "      <td>-9.648068e-17</td>\n",
       "      <td>1.421724e-24</td>\n",
       "    </tr>\n",
       "    <tr>\n",
       "      <th>3</th>\n",
       "      <td>0.425214</td>\n",
       "      <td>0.0</td>\n",
       "      <td>0.0</td>\n",
       "      <td>0.0</td>\n",
       "      <td>0.0</td>\n",
       "      <td>0.0</td>\n",
       "      <td>0.0</td>\n",
       "      <td>0.0</td>\n",
       "      <td>0.002286</td>\n",
       "      <td>0.002286</td>\n",
       "      <td>...</td>\n",
       "      <td>4.152348</td>\n",
       "      <td>-0.374996</td>\n",
       "      <td>0.988723</td>\n",
       "      <td>0.001005</td>\n",
       "      <td>1.166334e-08</td>\n",
       "      <td>1.651067e-13</td>\n",
       "      <td>1.305053e-13</td>\n",
       "      <td>-3.469470e-27</td>\n",
       "      <td>1.169827e-17</td>\n",
       "      <td>1.884007e-26</td>\n",
       "    </tr>\n",
       "    <tr>\n",
       "      <th>4</th>\n",
       "      <td>0.484515</td>\n",
       "      <td>0.0</td>\n",
       "      <td>0.0</td>\n",
       "      <td>0.0</td>\n",
       "      <td>0.0</td>\n",
       "      <td>0.0</td>\n",
       "      <td>0.0</td>\n",
       "      <td>0.0</td>\n",
       "      <td>0.001589</td>\n",
       "      <td>0.008737</td>\n",
       "      <td>...</td>\n",
       "      <td>3.980872</td>\n",
       "      <td>-0.389100</td>\n",
       "      <td>0.987145</td>\n",
       "      <td>0.001001</td>\n",
       "      <td>7.475556e-09</td>\n",
       "      <td>1.549518e-11</td>\n",
       "      <td>1.517783e-14</td>\n",
       "      <td>-5.960562e-27</td>\n",
       "      <td>-1.289277e-18</td>\n",
       "      <td>-4.318569e-27</td>\n",
       "    </tr>\n",
       "  </tbody>\n",
       "</table>\n",
       "<p>5 rows × 532 columns</p>\n",
       "</div>"
      ],
      "text/plain": [
       "          0    1    2    3    4    5    6    7         8         9  ...  \\\n",
       "0  0.380585  0.0  0.0  0.0  0.0  0.0  0.0  0.0  0.000000  0.000000  ...   \n",
       "1  0.778153  0.0  0.0  0.0  0.0  0.0  0.0  0.0  0.003626  0.000725  ...   \n",
       "2  0.483936  0.0  0.0  0.0  0.0  0.0  0.0  0.0  0.000000  0.000000  ...   \n",
       "3  0.425214  0.0  0.0  0.0  0.0  0.0  0.0  0.0  0.002286  0.002286  ...   \n",
       "4  0.484515  0.0  0.0  0.0  0.0  0.0  0.0  0.0  0.001589  0.008737  ...   \n",
       "\n",
       "        522       523       524       525           526           527  \\\n",
       "0  4.687530 -0.389468  0.991609  0.000927  3.568325e-08  1.258638e-12   \n",
       "1  3.893610 -0.474808  0.993637  0.001308  2.210277e-07  4.313838e-10   \n",
       "2  4.752973 -0.398878  0.993179  0.000988  3.986148e-08  1.652247e-11   \n",
       "3  4.152348 -0.374996  0.988723  0.001005  1.166334e-08  1.651067e-13   \n",
       "4  3.980872 -0.389100  0.987145  0.001001  7.475556e-09  1.549518e-11   \n",
       "\n",
       "            528           529           530           531  \n",
       "0  6.158524e-14  7.848554e-27  6.004156e-19 -1.524431e-26  \n",
       "1  3.658892e-11  3.745708e-21  1.682856e-14 -2.664640e-21  \n",
       "2  5.547954e-13 -8.945159e-25 -9.648068e-17  1.421724e-24  \n",
       "3  1.305053e-13 -3.469470e-27  1.169827e-17  1.884007e-26  \n",
       "4  1.517783e-14 -5.960562e-27 -1.289277e-18 -4.318569e-27  \n",
       "\n",
       "[5 rows x 532 columns]"
      ]
     },
     "execution_count": 9,
     "metadata": {},
     "output_type": "execute_result"
    }
   ],
   "source": [
    "df = pd.DataFrame(data)\n",
    "df.to_csv('data.csv', index = False)\n",
    "df_file = pd.read_csv('data.csv')\n",
    "df_file.head()"
   ]
  },
  {
   "cell_type": "code",
   "execution_count": 10,
   "id": "631f6ec0",
   "metadata": {},
   "outputs": [],
   "source": [
    "## 2. Fit a randomForest model, decision tree,Knn,logistic regression model,linear\n",
    "#     discriminant analysis,quadratic discriminant analysis, and Boosting algorithm\n",
    "#     model to the training data"
   ]
  },
  {
   "cell_type": "code",
   "execution_count": null,
   "id": "55f2006a",
   "metadata": {},
   "outputs": [],
   "source": []
  },
  {
   "cell_type": "code",
   "execution_count": 11,
   "id": "3c409ce3",
   "metadata": {},
   "outputs": [],
   "source": [
    "# list of classifiers\n",
    "models = {\n",
    "    \"random_forest\":RandomForestClassifier(n_estimators=100),\n",
    "    \"decision_tree\":DecisionTreeClassifier(),\n",
    "    \"knn\":KNeighborsClassifier(n_neighbors=1),\n",
    "    \"logit\":LogisticRegression(solver=\"lbfgs\",multi_class=\"auto\"),\n",
    "    \"lda\":LinearDiscriminantAnalysis(),\n",
    "    \"qda\":QuadraticDiscriminantAnalysis(),\n",
    "    \"gradient_boosing\": GradientBoostingClassifier(),\n",
    "}"
   ]
  },
  {
   "cell_type": "code",
   "execution_count": 12,
   "id": "21f1a3a6",
   "metadata": {},
   "outputs": [],
   "source": [
    "# Partitioning data into test and training\n",
    "(trainData, testData, trainLabels, testLabels) = train_test_split(data,labels,test_size=0.5,random_state=0)"
   ]
  },
  {
   "cell_type": "code",
   "execution_count": 13,
   "id": "150afd43",
   "metadata": {},
   "outputs": [],
   "source": [
    "# 2.1.1 Random forest model"
   ]
  },
  {
   "cell_type": "code",
   "execution_count": null,
   "id": "6bd9365e",
   "metadata": {},
   "outputs": [],
   "source": []
  },
  {
   "cell_type": "code",
   "execution_count": 14,
   "id": "b9dbe308",
   "metadata": {},
   "outputs": [
    {
     "name": "stdout",
     "output_type": "stream",
     "text": [
      " Training the Model With Random Forest Classifier\n"
     ]
    },
    {
     "data": {
      "text/plain": [
       "RandomForestClassifier()"
      ]
     },
     "execution_count": 14,
     "metadata": {},
     "output_type": "execute_result"
    }
   ],
   "source": [
    "print(\" Training the Model With Random Forest Classifier\")\n",
    "rf = models[\"random_forest\"]\n",
    "rf.fit(trainData,trainLabels)"
   ]
  },
  {
   "cell_type": "code",
   "execution_count": 15,
   "id": "586d173b",
   "metadata": {},
   "outputs": [],
   "source": [
    "# 2.1.2 Predict the labels for the corresponding test data"
   ]
  },
  {
   "cell_type": "code",
   "execution_count": null,
   "id": "c28ea88c",
   "metadata": {},
   "outputs": [],
   "source": []
  },
  {
   "cell_type": "code",
   "execution_count": 16,
   "id": "b0d7d3ef",
   "metadata": {},
   "outputs": [
    {
     "name": "stdout",
     "output_type": "stream",
     "text": [
      " Getting a prediction and Generating a classification report\n",
      "                 precision    recall  f1-score   support\n",
      "\n",
      " Status_Healthy       1.00      1.00      1.00         6\n",
      "Status_infected       1.00      1.00      1.00         4\n",
      "\n",
      "       accuracy                           1.00        10\n",
      "      macro avg       1.00      1.00      1.00        10\n",
      "   weighted avg       1.00      1.00      1.00        10\n",
      "\n"
     ]
    }
   ],
   "source": [
    "print(\" Getting a prediction and Generating a classification report\") \n",
    "predictions = rf.predict(testData)\n",
    "print(classification_report(testLabels,predictions,target_names=lb.classes_))"
   ]
  },
  {
   "cell_type": "code",
   "execution_count": 17,
   "id": "badf7699",
   "metadata": {},
   "outputs": [],
   "source": [
    "# 2.1.3 compute the confusion matrix for the test data"
   ]
  },
  {
   "cell_type": "code",
   "execution_count": null,
   "id": "1f2b1f2f",
   "metadata": {},
   "outputs": [],
   "source": []
  },
  {
   "cell_type": "code",
   "execution_count": 18,
   "id": "c0875c2b",
   "metadata": {},
   "outputs": [
    {
     "name": "stdout",
     "output_type": "stream",
     "text": [
      " Loop over each Image, Pre-Process it, and Store it in the data lists\n"
     ]
    }
   ],
   "source": [
    "# List of Image Paths.\n",
    "imagePaths = sorted(list(paths.list_images(\"testdata\")))\n",
    "\n",
    "random.seed(42)\n",
    "random.shuffle(imagePaths)\n",
    "datatest = []\n",
    "labelstest = []\n",
    "IMAGE_DIMS = (50,50,1)\n",
    "print(\" Loop over each Image, Pre-Process it, and Store it in the data lists\")\n",
    "for imagePath in imagePaths:\n",
    "    image = cv2.imread(imagePath)\n",
    "    image = cv2.resize(image,(IMAGE_DIMS[1],IMAGE_DIMS[0]))\n",
    "    fv_histogram = fdHistogram(image)\n",
    "    fv_hu_moments = fd_hu_moments(image)\n",
    "    image = cv2.cvtColor(image,cv2.COLOR_BGR2GRAY)\n",
    "    features = extractFeatures(image)\n",
    "    global_feature = np.hstack([fv_histogram,features,fv_hu_moments])\n",
    "    datatest.append(global_feature)\n",
    "    labell = imagePath.split(os.path.sep)[-2]\n",
    "    labelstest.append(labell)"
   ]
  },
  {
   "cell_type": "code",
   "execution_count": 19,
   "id": "4a8af5fc",
   "metadata": {},
   "outputs": [
    {
     "name": "stdout",
     "output_type": "stream",
     "text": [
      "Classification Report\n",
      "                  precision    recall  f1-score   support\n",
      "\n",
      " Status_Healthy       0.54      0.76      0.63      2760\n",
      "Status_infected       0.60      0.36      0.45      2760\n",
      "\n",
      "       accuracy                           0.56      5520\n",
      "      macro avg       0.57      0.56      0.54      5520\n",
      "   weighted avg       0.57      0.56      0.54      5520\n",
      "\n"
     ]
    }
   ],
   "source": [
    "# predicting data and show the report\n",
    "\n",
    "predictionstest = rf.predict(datatest)\n",
    "print(\"Classification Report\\n\" , classification_report(labelstest,predictionstest,target_names=lb.classes_))"
   ]
  },
  {
   "cell_type": "code",
   "execution_count": 20,
   "id": "16b9004f",
   "metadata": {},
   "outputs": [],
   "source": [
    "def plot_confusion_matrix(cm,classes,normalize=False,title='Confusion matrix',cmap=plt.cm.Blues):\n",
    "    plt.imshow(cm,interpolation='nearest',cmap=cmap)\n",
    "    plt.title(title)\n",
    "    plt.colorbar()\n",
    "    tick_marks = np.arange(len(classes))\n",
    "    plt.xticks(tick_marks,classes,rotation=90)\n",
    "    plt.yticks(tick_marks,classes)\n",
    "    \n",
    "    if normalize:\n",
    "        cm = cm.astype('float')/cm.sum(axis=1)[:,np.newaxis]\n",
    "        print(\"Normalized confusion matrix\")\n",
    "    else:\n",
    "        print(\"Confusion matrix, without normalization\")\n",
    "    \n",
    "    print(cm)\n",
    "    \n",
    "    thresh = cm.max()/2.\n",
    "    for i,j in itertools.product(range(cm.shape[0]),range(cm.shape[1])):\n",
    "        plt.text(j,i,cm[i,j],horizontalalignment=\"center\",color=\"white\" if cm[i,j] > thresh else \"black\")\n",
    "    \n",
    "    plt.tight_layout()\n",
    "    plt.ylabel('True label')\n",
    "    plt.xlabel('Predicted label')\n",
    "    "
   ]
  },
  {
   "cell_type": "code",
   "execution_count": 21,
   "id": "e3095057",
   "metadata": {},
   "outputs": [
    {
     "name": "stdout",
     "output_type": "stream",
     "text": [
      "Confusion matrix, without normalization\n",
      "[[2098  662]\n",
      " [1756 1004]]\n"
     ]
    },
    {
     "data": {
      "image/png": "[encoded data removed]",
      "text/plain": [
       "<Figure size 432x288 with 2 Axes>"
      ]
     },
     "metadata": {
      "needs_background": "light"
     },
     "output_type": "display_data"
    }
   ],
   "source": [
    "cnf_matrix = confusion_matrix(labelstest,predictionstest)\n",
    "np.set_printoptions(precision=2)\n",
    "plt.figure()\n",
    "plot_confusion_matrix(cnf_matrix,classes=lb.classes_,title='svm Confusion matrix ')\n",
    "plt.show()"
   ]
  },
  {
   "cell_type": "code",
   "execution_count": 22,
   "id": "26479f03",
   "metadata": {},
   "outputs": [
    {
     "name": "stdout",
     "output_type": "stream",
     "text": [
      "[[2098  662]\n",
      " [1756 1004]]\n"
     ]
    }
   ],
   "source": [
    "conf_matrix=confusion_matrix(labelstest,predictionstest)\n",
    "print(conf_matrix)"
   ]
  },
  {
   "cell_type": "code",
   "execution_count": 23,
   "id": "c6b5f0c5",
   "metadata": {},
   "outputs": [],
   "source": [
    "# 2.1.4 compute AUC for each classifier"
   ]
  },
  {
   "cell_type": "code",
   "execution_count": null,
   "id": "54bf0b8b",
   "metadata": {},
   "outputs": [],
   "source": []
  },
  {
   "cell_type": "code",
   "execution_count": 24,
   "id": "4f615361",
   "metadata": {},
   "outputs": [
    {
     "name": "stdout",
     "output_type": "stream",
     "text": [
      "1.0\n"
     ]
    }
   ],
   "source": [
    "target_pred_prob = rf.predict_proba(testData)\n",
    "rf_auc = roc_auc_score(testLabels,target_pred_prob[:,1], multi_class='ovr')\n",
    "print(rf_auc)"
   ]
  },
  {
   "cell_type": "code",
   "execution_count": 25,
   "id": "7479bcd3",
   "metadata": {},
   "outputs": [],
   "source": [
    "# 2.1.5 plot ROC curves as evaluate on the test data"
   ]
  },
  {
   "cell_type": "code",
   "execution_count": null,
   "id": "3bf7c174",
   "metadata": {},
   "outputs": [],
   "source": []
  },
  {
   "cell_type": "code",
   "execution_count": 26,
   "id": "60e834cc",
   "metadata": {},
   "outputs": [
    {
     "data": {
      "image/png": "[encoded data removed]",
      "text/plain": [
       "<Figure size 432x288 with 1 Axes>"
      ]
     },
     "metadata": {
      "needs_background": "light"
     },
     "output_type": "display_data"
    }
   ],
   "source": [
    "fpr = dict()\n",
    "tpr = dict()\n",
    "roc_auc = dict()\n",
    "\n",
    "for i in range(2):\n",
    "    fpr[i], tpr[i], _ = roc_curve(lb.fit_transform(testLabels), target_pred_prob[:, i],pos_label=1)\n",
    "    roc_auc[i] = auc(fpr[i], tpr[i])\n",
    "\n",
    "plt.figure()\n",
    "colors = ['green', 'red']\n",
    "targets = ['status_healthy','status_infected']\n",
    "for i in range(2):\n",
    "    plt.plot(fpr[i], tpr[i], color=colors[i],\n",
    "             linewidth=2.0, label='ROC curve of {0} (area = {1:0.2f})'.format(targets[i], roc_auc[i]))\n",
    "plt.plot([0, 1.05], [0, 1.05], color='navy', linewidth=2.0, linestyle='--')\n",
    "plt.xlim([0.0, 1.05])\n",
    "plt.ylim([0.0, 1.05])\n",
    "plt.xlabel('False Positive Rate')\n",
    "plt.ylabel('True Positive Rate')\n",
    "plt.title('Receiver operating characteristic (ROC) curve')\n",
    "plt.legend(loc=\"lower right\")\n",
    "plt.show()"
   ]
  },
  {
   "cell_type": "code",
   "execution_count": 27,
   "id": "bb4176ba",
   "metadata": {},
   "outputs": [],
   "source": [
    "# 2.2.1 Decision tree model"
   ]
  },
  {
   "cell_type": "code",
   "execution_count": null,
   "id": "d0b4b57d",
   "metadata": {},
   "outputs": [],
   "source": []
  },
  {
   "cell_type": "code",
   "execution_count": 28,
   "id": "4695143d",
   "metadata": {},
   "outputs": [
    {
     "name": "stdout",
     "output_type": "stream",
     "text": [
      "[INFO] using 'decision_tree' model\n"
     ]
    },
    {
     "data": {
      "text/plain": [
       "DecisionTreeClassifier()"
      ]
     },
     "execution_count": 28,
     "metadata": {},
     "output_type": "execute_result"
    }
   ],
   "source": [
    "# train the model\n",
    "print(\"[INFO] using '{}' model\".format(\"decision_tree\"))\n",
    "dt = models[\"decision_tree\"]\n",
    "dt.fit(trainData,trainLabels)"
   ]
  },
  {
   "cell_type": "code",
   "execution_count": 29,
   "id": "93cdffad",
   "metadata": {},
   "outputs": [],
   "source": [
    "# 2.2.2 Predict the labels for the cooresponding test data"
   ]
  },
  {
   "cell_type": "code",
   "execution_count": null,
   "id": "53e60020",
   "metadata": {},
   "outputs": [],
   "source": []
  },
  {
   "cell_type": "code",
   "execution_count": 30,
   "id": "f4e22788",
   "metadata": {},
   "outputs": [
    {
     "name": "stdout",
     "output_type": "stream",
     "text": [
      "[INFO] evaluating...\n",
      "                 precision    recall  f1-score   support\n",
      "\n",
      " Status_Healthy       0.86      1.00      0.92         6\n",
      "Status_infected       1.00      0.75      0.86         4\n",
      "\n",
      "       accuracy                           0.90        10\n",
      "      macro avg       0.93      0.88      0.89        10\n",
      "   weighted avg       0.91      0.90      0.90        10\n",
      "\n"
     ]
    }
   ],
   "source": [
    "# make predictions on our data and show a classification report\n",
    "print(\"[INFO] evaluating...\")\n",
    "predictions = dt.predict(testData)\n",
    "print(classification_report(testLabels,predictions,target_names=lb.classes_))"
   ]
  },
  {
   "cell_type": "code",
   "execution_count": 31,
   "id": "f7e7e77b",
   "metadata": {},
   "outputs": [],
   "source": [
    "# 2.2.3 compute the confusion matrix for the test data"
   ]
  },
  {
   "cell_type": "code",
   "execution_count": null,
   "id": "db50457e",
   "metadata": {},
   "outputs": [],
   "source": []
  },
  {
   "cell_type": "code",
   "execution_count": 32,
   "id": "878fa8e6",
   "metadata": {},
   "outputs": [
    {
     "name": "stdout",
     "output_type": "stream",
     "text": [
      "[INFO] evluating...\n",
      "                 precision    recall  f1-score   support\n",
      "\n",
      " Status_Healthy       0.67      0.86      0.75      2760\n",
      "Status_infected       0.81      0.57      0.67      2760\n",
      "\n",
      "       accuracy                           0.72      5520\n",
      "      macro avg       0.74      0.72      0.71      5520\n",
      "   weighted avg       0.74      0.72      0.71      5520\n",
      "\n"
     ]
    }
   ],
   "source": [
    "# make predictions on our data and show a classification report\n",
    "print(\"[INFO] evluating...\")\n",
    "predictionstest = dt.predict(datatest)\n",
    "print(classification_report(labelstest,predictionstest,target_names=lb.classes_))"
   ]
  },
  {
   "cell_type": "code",
   "execution_count": 33,
   "id": "2f1c7ec9",
   "metadata": {},
   "outputs": [],
   "source": [
    "# Plotting confusion matrix\n",
    "\n",
    "def plot_confusion_matrix(cm,classes,normalize=False,title='Confusion matrix',cmap=plt.cm.Blues):\n",
    "    plt.imshow(cm,interpolation='nearest',cmap=cmap)\n",
    "    plt.title(title)\n",
    "    plt.colorbar()\n",
    "    tick_marks = np.arange(len(classes))\n",
    "    plt.xticks(tick_marks,classes,rotation=90)\n",
    "    plt.yticks(tick_marks,classes)\n",
    "    \n",
    "    if normalize:\n",
    "        cm = cm.astype('float')/cm.sum(axis=1)[:,np.newaxis]\n",
    "        print(\"Normalized confusion matrix\")\n",
    "    else:\n",
    "        print(\"Confusion matrix, without normalization\")\n",
    "    \n",
    "    print(cm)\n",
    "    thresh = cm.max()/2.\n",
    "    for i,j in itertools.product(range(cm.shape[0]),range(cm.shape[1])):\n",
    "        plt.text(j,i,cm[i,j],horizontalalignment=\"center\",color=\"white\" if cm[i,j] > thresh else \"black\")\n",
    "    \n",
    "    plt.tight_layout()\n",
    "    plt.ylabel('True Labels')\n",
    "    plt.xlabel('Predicted Labels')"
   ]
  },
  {
   "cell_type": "code",
   "execution_count": 34,
   "id": "6b22cf1f",
   "metadata": {},
   "outputs": [
    {
     "name": "stdout",
     "output_type": "stream",
     "text": [
      "Confusion matrix, without normalization\n",
      "[[2379  381]\n",
      " [1181 1579]]\n"
     ]
    },
    {
     "data": {
      "image/png": "[encoded data removed]",
      "text/plain": [
       "<Figure size 432x288 with 2 Axes>"
      ]
     },
     "metadata": {
      "needs_background": "light"
     },
     "output_type": "display_data"
    }
   ],
   "source": [
    "# creating the confusion matrix\n",
    "\n",
    "cnf_matrix = confusion_matrix(labelstest,predictionstest)\n",
    "np.set_printoptions(precision=2)\n",
    "plt.figure()\n",
    "plot_confusion_matrix(cnf_matrix,classes=lb.classes_,title='svm Confusion matrix ')\n",
    "plt.show()"
   ]
  },
  {
   "cell_type": "code",
   "execution_count": 35,
   "id": "d8e1bafe",
   "metadata": {},
   "outputs": [
    {
     "name": "stdout",
     "output_type": "stream",
     "text": [
      "Confusion Matrix\n",
      " [[2379  381]\n",
      " [1181 1579]]\n"
     ]
    }
   ],
   "source": [
    "# Getting the confusion matrix and predict tests\n",
    "\n",
    "conf_matrix=confusion_matrix(labelstest,predictionstest)\n",
    "print(\"Confusion Matrix\\n\",conf_matrix)"
   ]
  },
  {
   "cell_type": "code",
   "execution_count": 36,
   "id": "4ce38a95",
   "metadata": {},
   "outputs": [],
   "source": [
    "# 2.2.4 Compute the Auc for each classifier"
   ]
  },
  {
   "cell_type": "code",
   "execution_count": null,
   "id": "b9339fa5",
   "metadata": {},
   "outputs": [],
   "source": []
  },
  {
   "cell_type": "code",
   "execution_count": 37,
   "id": "2a2f9bae",
   "metadata": {},
   "outputs": [
    {
     "name": "stdout",
     "output_type": "stream",
     "text": [
      "0.875\n"
     ]
    }
   ],
   "source": [
    "target_pred_prob = dt.predict_proba(testData)\n",
    "dt_auc = roc_auc_score(testLabels,target_pred_prob[:,1], multi_class='ovr')\n",
    "print(dt_auc)"
   ]
  },
  {
   "cell_type": "code",
   "execution_count": 38,
   "id": "a81a6df0",
   "metadata": {},
   "outputs": [],
   "source": [
    "# 2.2.5 Plot ROC "
   ]
  },
  {
   "cell_type": "code",
   "execution_count": null,
   "id": "086243ad",
   "metadata": {},
   "outputs": [],
   "source": []
  },
  {
   "cell_type": "code",
   "execution_count": 39,
   "id": "8ead7697",
   "metadata": {},
   "outputs": [
    {
     "data": {
      "image/png": "[encoded data removed]",
      "text/plain": [
       "<Figure size 432x288 with 1 Axes>"
      ]
     },
     "metadata": {
      "needs_background": "light"
     },
     "output_type": "display_data"
    }
   ],
   "source": [
    "fpr = dict()\n",
    "tpr = dict()\n",
    "roc_auc = dict()\n",
    "\n",
    "for i in range(2):\n",
    "    fpr[i], tpr[i], _ = roc_curve(lb.fit_transform(testLabels), target_pred_prob[:, i],pos_label=1)\n",
    "    roc_auc[i] = auc(fpr[i], tpr[i])\n",
    "\n",
    "plt.figure()\n",
    "colors = ['green', 'red']\n",
    "targets = ['status_healthy','status_infected']\n",
    "for i in range(2):\n",
    "    plt.plot(fpr[i], tpr[i], color=colors[i],\n",
    "             linewidth=2.0, label='ROC curve of {0} (area = {1:0.2f})'.format(targets[i], roc_auc[i]))\n",
    "plt.plot([0, 1.05], [0, 1.05], color='navy', linewidth=2.0, linestyle='--')\n",
    "plt.xlim([0.0, 1.05])\n",
    "plt.ylim([0.0, 1.05])\n",
    "plt.xlabel('False Positive Rate')\n",
    "plt.ylabel('True Positive Rate')\n",
    "plt.title('Receiver operating characteristic (ROC) curve')\n",
    "plt.legend(loc=\"lower right\")\n",
    "plt.show()"
   ]
  },
  {
   "cell_type": "code",
   "execution_count": 40,
   "id": "089ea746",
   "metadata": {},
   "outputs": [],
   "source": [
    "# 2.3.1 k-nearest neighbors(KNN) model"
   ]
  },
  {
   "cell_type": "code",
   "execution_count": null,
   "id": "a10d7f54",
   "metadata": {},
   "outputs": [],
   "source": []
  },
  {
   "cell_type": "code",
   "execution_count": 41,
   "id": "b4290432",
   "metadata": {},
   "outputs": [
    {
     "name": "stdout",
     "output_type": "stream",
     "text": [
      "Training the model with KNN\n"
     ]
    },
    {
     "data": {
      "text/plain": [
       "KNeighborsClassifier(n_neighbors=1)"
      ]
     },
     "execution_count": 41,
     "metadata": {},
     "output_type": "execute_result"
    }
   ],
   "source": [
    "print(\"Training the model with KNN\")\n",
    "knn = models[\"knn\"]\n",
    "knn.fit(trainData,trainLabels)"
   ]
  },
  {
   "cell_type": "code",
   "execution_count": 42,
   "id": "2f66c3fe",
   "metadata": {},
   "outputs": [],
   "source": [
    "# 2.3.2 Predict the labels for the coressponding test data"
   ]
  },
  {
   "cell_type": "code",
   "execution_count": null,
   "id": "ba9c32f8",
   "metadata": {},
   "outputs": [],
   "source": []
  },
  {
   "cell_type": "code",
   "execution_count": 43,
   "id": "28bb0f0c",
   "metadata": {},
   "outputs": [
    {
     "name": "stdout",
     "output_type": "stream",
     "text": [
      "Prediction based on our data and show a classification report\n",
      "                 precision    recall  f1-score   support\n",
      "\n",
      " Status_Healthy       0.80      0.67      0.73         6\n",
      "Status_infected       0.60      0.75      0.67         4\n",
      "\n",
      "       accuracy                           0.70        10\n",
      "      macro avg       0.70      0.71      0.70        10\n",
      "   weighted avg       0.72      0.70      0.70        10\n",
      "\n"
     ]
    }
   ],
   "source": [
    "print(\"Prediction based on our data and show a classification report\")\n",
    "predictions = knn.predict(testData)\n",
    "print(classification_report(testLabels,predictions,target_names=lb.classes_))"
   ]
  },
  {
   "cell_type": "code",
   "execution_count": 44,
   "id": "26c0be18",
   "metadata": {},
   "outputs": [],
   "source": [
    "# 2.3.3 compute the confusion matrix for the test data"
   ]
  },
  {
   "cell_type": "code",
   "execution_count": null,
   "id": "e8b72ea8",
   "metadata": {},
   "outputs": [],
   "source": []
  },
  {
   "cell_type": "code",
   "execution_count": 45,
   "id": "5703bb39",
   "metadata": {},
   "outputs": [
    {
     "name": "stdout",
     "output_type": "stream",
     "text": [
      "Predictions on our data to show the classification report\n",
      "                 precision    recall  f1-score   support\n",
      "\n",
      " Status_Healthy       0.51      0.70      0.59      2760\n",
      "Status_infected       0.52      0.32      0.40      2760\n",
      "\n",
      "       accuracy                           0.51      5520\n",
      "      macro avg       0.51      0.51      0.49      5520\n",
      "   weighted avg       0.51      0.51      0.49      5520\n",
      "\n",
      "Confusion matrix, without normalization\n",
      "[[1925  835]\n",
      " [1873  887]]\n"
     ]
    },
    {
     "data": {
      "image/png": "[encoded data removed]",
      "text/plain": [
       "<Figure size 432x288 with 2 Axes>"
      ]
     },
     "metadata": {
      "needs_background": "light"
     },
     "output_type": "display_data"
    },
    {
     "name": "stdout",
     "output_type": "stream",
     "text": [
      "[[1925  835]\n",
      " [1873  887]]\n"
     ]
    }
   ],
   "source": [
    "print(\"Predictions on our data to show the classification report\")\n",
    "predictionstest = knn.predict(datatest)\n",
    "print(classification_report(labelstest,predictionstest,target_names=lb.classes_))\n",
    "\n",
    "cnf_matrix = confusion_matrix(labelstest,predictionstest)\n",
    "np.set_printoptions(precision=2)\n",
    "plt.figure()\n",
    "plot_confusion_matrix(cnf_matrix,classes=lb.classes_,title='svm Confusion matrix ')\n",
    "plt.show()\n",
    "\n",
    "conf_matrix=confusion_matrix(labelstest,predictionstest)\n",
    "print(conf_matrix)"
   ]
  },
  {
   "cell_type": "code",
   "execution_count": 46,
   "id": "673fdf34",
   "metadata": {},
   "outputs": [],
   "source": [
    "# 2.3.4 compute the AUC"
   ]
  },
  {
   "cell_type": "code",
   "execution_count": null,
   "id": "34f99426",
   "metadata": {},
   "outputs": [],
   "source": []
  },
  {
   "cell_type": "code",
   "execution_count": 47,
   "id": "b3b9f2c4",
   "metadata": {},
   "outputs": [
    {
     "name": "stdout",
     "output_type": "stream",
     "text": [
      "0.7083333333333334\n"
     ]
    }
   ],
   "source": [
    "target_pred_prob = knn.predict_proba(testData)\n",
    "knn_auc = roc_auc_score(testLabels,target_pred_prob[:,1], multi_class='ovr')\n",
    "print(knn_auc)"
   ]
  },
  {
   "cell_type": "code",
   "execution_count": 48,
   "id": "566cf013",
   "metadata": {},
   "outputs": [],
   "source": [
    "# 2.3.5 Plot ROC curves"
   ]
  },
  {
   "cell_type": "code",
   "execution_count": null,
   "id": "3fce6f91",
   "metadata": {},
   "outputs": [],
   "source": []
  },
  {
   "cell_type": "code",
   "execution_count": 49,
   "id": "a8e40e91",
   "metadata": {},
   "outputs": [
    {
     "data": {
      "image/png": "[encoded data removed]",
      "text/plain": [
       "<Figure size 432x288 with 1 Axes>"
      ]
     },
     "metadata": {
      "needs_background": "light"
     },
     "output_type": "display_data"
    }
   ],
   "source": [
    "fpr = dict()\n",
    "tpr = dict()\n",
    "roc_auc = dict()\n",
    "\n",
    "for i in range(2):\n",
    "    fpr[i], tpr[i], _ = roc_curve(lb.fit_transform(testLabels), target_pred_prob[:, i],pos_label=1)\n",
    "    roc_auc[i] = auc(fpr[i], tpr[i])\n",
    "\n",
    "plt.figure()\n",
    "colors = ['green', 'red']\n",
    "targets = ['status_healthy','status_infected']\n",
    "for i in range(2):\n",
    "    plt.plot(fpr[i], tpr[i], color=colors[i],\n",
    "             linewidth=2.0, label='ROC curve of {0} (area = {1:0.2f})'.format(targets[i], roc_auc[i]))\n",
    "plt.plot([0, 1.05], [0, 1.05], color='navy', linewidth=2.0, linestyle='--')\n",
    "plt.xlim([0.0, 1.05])\n",
    "plt.ylim([0.0, 1.05])\n",
    "plt.xlabel('False Positive Rate')\n",
    "plt.ylabel('True Positive Rate')\n",
    "plt.title('Receiver operating characteristic (ROC) curve')\n",
    "plt.legend(loc=\"lower right\")\n",
    "plt.show()"
   ]
  },
  {
   "cell_type": "code",
   "execution_count": 50,
   "id": "e020d297",
   "metadata": {},
   "outputs": [],
   "source": [
    "# 2.4.1 Logistic Regression Model"
   ]
  },
  {
   "cell_type": "code",
   "execution_count": null,
   "id": "b1ea65c8",
   "metadata": {},
   "outputs": [],
   "source": []
  },
  {
   "cell_type": "code",
   "execution_count": 51,
   "id": "0ece1173",
   "metadata": {},
   "outputs": [
    {
     "data": {
      "text/plain": [
       "LogisticRegression()"
      ]
     },
     "execution_count": 51,
     "metadata": {},
     "output_type": "execute_result"
    }
   ],
   "source": [
    "# Logistic Regression Model.\n",
    "logit = models[\"logit\"]\n",
    "logit.fit(trainData,trainLabels)"
   ]
  },
  {
   "cell_type": "code",
   "execution_count": 52,
   "id": "a35b5584",
   "metadata": {},
   "outputs": [],
   "source": [
    "# 2.4.2 Predict the labels for the test data"
   ]
  },
  {
   "cell_type": "code",
   "execution_count": null,
   "id": "6e10aa40",
   "metadata": {},
   "outputs": [],
   "source": []
  },
  {
   "cell_type": "code",
   "execution_count": 53,
   "id": "3db11825",
   "metadata": {},
   "outputs": [
    {
     "name": "stdout",
     "output_type": "stream",
     "text": [
      "[INFO] evaluating...\n",
      "                 precision    recall  f1-score   support\n",
      "\n",
      " Status_Healthy       0.80      0.67      0.73         6\n",
      "Status_infected       0.60      0.75      0.67         4\n",
      "\n",
      "       accuracy                           0.70        10\n",
      "      macro avg       0.70      0.71      0.70        10\n",
      "   weighted avg       0.72      0.70      0.70        10\n",
      "\n"
     ]
    }
   ],
   "source": [
    "# make predictions on our data and show a classification report\n",
    "print(\"[INFO] evaluating...\")\n",
    "predictions = logit.predict(testData)\n",
    "print(classification_report(testLabels,predictions,target_names=lb.classes_))"
   ]
  },
  {
   "cell_type": "code",
   "execution_count": 54,
   "id": "09790a2c",
   "metadata": {},
   "outputs": [],
   "source": [
    "# 2.4.3 Compute the confusion matrix for the test data"
   ]
  },
  {
   "cell_type": "code",
   "execution_count": null,
   "id": "93b4207b",
   "metadata": {},
   "outputs": [],
   "source": []
  },
  {
   "cell_type": "code",
   "execution_count": 55,
   "id": "80255a93",
   "metadata": {},
   "outputs": [
    {
     "name": "stdout",
     "output_type": "stream",
     "text": [
      "make predictions on our data and show a classification report\n",
      "                 precision    recall  f1-score   support\n",
      "\n",
      " Status_Healthy       0.51      0.96      0.67      2760\n",
      "Status_infected       0.69      0.09      0.16      2760\n",
      "\n",
      "       accuracy                           0.53      5520\n",
      "      macro avg       0.60      0.53      0.42      5520\n",
      "   weighted avg       0.60      0.53      0.42      5520\n",
      "\n"
     ]
    }
   ],
   "source": [
    "print(\"make predictions on our data and show a classification report\")\n",
    "predictionstest = logit.predict(datatest)\n",
    "print(classification_report(labelstest,predictionstest,target_names=lb.classes_))"
   ]
  },
  {
   "cell_type": "code",
   "execution_count": 56,
   "id": "e64d71d6",
   "metadata": {},
   "outputs": [
    {
     "name": "stdout",
     "output_type": "stream",
     "text": [
      "Confusion matrix, without normalization\n",
      "[[2645  115]\n",
      " [2503  257]]\n"
     ]
    },
    {
     "data": {
      "image/png": "[encoded data removed]",
      "text/plain": [
       "<Figure size 432x288 with 2 Axes>"
      ]
     },
     "metadata": {
      "needs_background": "light"
     },
     "output_type": "display_data"
    }
   ],
   "source": [
    "cnf_matrix = confusion_matrix(labelstest,predictionstest)\n",
    "np.set_printoptions(precision=2)\n",
    "plt.figure()\n",
    "plot_confusion_matrix(cnf_matrix,classes=lb.classes_,title='svm Confusion matrix ')\n",
    "plt.show()"
   ]
  },
  {
   "cell_type": "code",
   "execution_count": 57,
   "id": "142d465d",
   "metadata": {},
   "outputs": [
    {
     "name": "stdout",
     "output_type": "stream",
     "text": [
      "[[2645  115]\n",
      " [2503  257]]\n"
     ]
    }
   ],
   "source": [
    "conf_matrix=confusion_matrix(labelstest,predictionstest)\n",
    "print(conf_matrix)"
   ]
  },
  {
   "cell_type": "code",
   "execution_count": 58,
   "id": "65d01125",
   "metadata": {},
   "outputs": [],
   "source": [
    "# 2.4.4 Compute the AUC"
   ]
  },
  {
   "cell_type": "code",
   "execution_count": null,
   "id": "d56a3608",
   "metadata": {},
   "outputs": [],
   "source": []
  },
  {
   "cell_type": "code",
   "execution_count": 59,
   "id": "ff624795",
   "metadata": {},
   "outputs": [
    {
     "name": "stdout",
     "output_type": "stream",
     "text": [
      "0.875\n"
     ]
    }
   ],
   "source": [
    "target_pred_prob = logit.predict_proba(testData)\n",
    "logit_auc = roc_auc_score(testLabels,target_pred_prob[:,1], multi_class='ovr')\n",
    "print(logit_auc)"
   ]
  },
  {
   "cell_type": "code",
   "execution_count": 60,
   "id": "7acd821d",
   "metadata": {},
   "outputs": [],
   "source": [
    "# 2.4.5 Plot ROC"
   ]
  },
  {
   "cell_type": "code",
   "execution_count": null,
   "id": "55fd9f10",
   "metadata": {},
   "outputs": [],
   "source": []
  },
  {
   "cell_type": "code",
   "execution_count": 61,
   "id": "ec21b982",
   "metadata": {},
   "outputs": [
    {
     "data": {
      "image/png": "[encoded data removed]",
      "text/plain": [
       "<Figure size 432x288 with 1 Axes>"
      ]
     },
     "metadata": {
      "needs_background": "light"
     },
     "output_type": "display_data"
    }
   ],
   "source": [
    "fpr = dict()\n",
    "tpr = dict()\n",
    "roc_auc = dict()\n",
    "\n",
    "for i in range(2):\n",
    "    fpr[i], tpr[i], _ = roc_curve(lb.fit_transform(testLabels), target_pred_prob[:, i],pos_label=1)\n",
    "    roc_auc[i] = auc(fpr[i], tpr[i])\n",
    "\n",
    "plt.figure()\n",
    "colors = ['green', 'red']\n",
    "targets = ['status_healthy','status_infected']\n",
    "for i in range(2):\n",
    "    plt.plot(fpr[i], tpr[i], color=colors[i],\n",
    "             linewidth=2.0, label='ROC curve of {0} (area = {1:0.2f})'.format(targets[i], roc_auc[i]))\n",
    "plt.plot([0, 1.05], [0, 1.05], color='navy', linewidth=2.0, linestyle='--')\n",
    "plt.xlim([0.0, 1.05])\n",
    "plt.ylim([0.0, 1.05])\n",
    "plt.xlabel('False Positive Rate')\n",
    "plt.ylabel('True Positive Rate')\n",
    "plt.title('Receiver operating characteristic (ROC) curve')\n",
    "plt.legend(loc=\"lower right\")\n",
    "plt.show()"
   ]
  },
  {
   "cell_type": "code",
   "execution_count": 62,
   "id": "b896b3f8",
   "metadata": {},
   "outputs": [],
   "source": [
    "# 2.5.1 LDA model"
   ]
  },
  {
   "cell_type": "code",
   "execution_count": null,
   "id": "a9974d35",
   "metadata": {},
   "outputs": [],
   "source": []
  },
  {
   "cell_type": "code",
   "execution_count": 63,
   "id": "1b9b0549",
   "metadata": {},
   "outputs": [
    {
     "name": "stdout",
     "output_type": "stream",
     "text": [
      "Train the model with Linear Discriminant Analysis\n"
     ]
    },
    {
     "data": {
      "text/plain": [
       "LinearDiscriminantAnalysis()"
      ]
     },
     "execution_count": 63,
     "metadata": {},
     "output_type": "execute_result"
    }
   ],
   "source": [
    "print(\"Train the model with Linear Discriminant Analysis\")\n",
    "lda = models[\"lda\"]\n",
    "lda.fit(trainData,trainLabels)"
   ]
  },
  {
   "cell_type": "code",
   "execution_count": 64,
   "id": "83c317c1",
   "metadata": {},
   "outputs": [],
   "source": [
    "# 2.5.2 Predict the labels for the test data"
   ]
  },
  {
   "cell_type": "code",
   "execution_count": null,
   "id": "0b85ace2",
   "metadata": {},
   "outputs": [],
   "source": []
  },
  {
   "cell_type": "code",
   "execution_count": 65,
   "id": "630c1e12",
   "metadata": {},
   "outputs": [
    {
     "name": "stdout",
     "output_type": "stream",
     "text": [
      "Makeing predictions and showing a classification report on our data\n",
      "                 precision    recall  f1-score   support\n",
      "\n",
      " Status_Healthy       1.00      0.67      0.80         6\n",
      "Status_infected       0.67      1.00      0.80         4\n",
      "\n",
      "       accuracy                           0.80        10\n",
      "      macro avg       0.83      0.83      0.80        10\n",
      "   weighted avg       0.87      0.80      0.80        10\n",
      "\n"
     ]
    }
   ],
   "source": [
    "print(\"Makeing predictions and showing a classification report on our data\")\n",
    "predictions = lda.predict(testData)\n",
    "print(classification_report(testLabels,predictions,target_names=lb.classes_))"
   ]
  },
  {
   "cell_type": "code",
   "execution_count": 66,
   "id": "9304d4f4",
   "metadata": {},
   "outputs": [],
   "source": [
    "# 2.5.2 Compute the confusion matrix"
   ]
  },
  {
   "cell_type": "code",
   "execution_count": null,
   "id": "f7f21bb4",
   "metadata": {},
   "outputs": [],
   "source": []
  },
  {
   "cell_type": "code",
   "execution_count": 67,
   "id": "68ea79e5",
   "metadata": {},
   "outputs": [
    {
     "name": "stdout",
     "output_type": "stream",
     "text": [
      " Make predictions on our data and show a classification report\n",
      "                 precision    recall  f1-score   support\n",
      "\n",
      " Status_Healthy       0.55      0.48      0.51      2760\n",
      "Status_infected       0.54      0.61      0.58      2760\n",
      "\n",
      "       accuracy                           0.55      5520\n",
      "      macro avg       0.55      0.55      0.54      5520\n",
      "   weighted avg       0.55      0.55      0.54      5520\n",
      "\n"
     ]
    }
   ],
   "source": [
    "print(\" Make predictions on our data and show a classification report\")\n",
    "predictionstest = lda.predict(datatest)\n",
    "print(classification_report(labelstest,predictionstest,target_names=lb.classes_))"
   ]
  },
  {
   "cell_type": "code",
   "execution_count": 68,
   "id": "605a3c74",
   "metadata": {},
   "outputs": [
    {
     "name": "stdout",
     "output_type": "stream",
     "text": [
      "The Confusion Matrix is :  [[2645  115]\n",
      " [2503  257]]\n",
      "Confusion matrix, without normalization\n",
      "[[1321 1439]\n",
      " [1063 1697]]\n"
     ]
    },
    {
     "data": {
      "image/png": "[encoded data removed]",
      "text/plain": [
       "<Figure size 432x288 with 2 Axes>"
      ]
     },
     "metadata": {
      "needs_background": "light"
     },
     "output_type": "display_data"
    }
   ],
   "source": [
    "cnf_matrix = confusion_matrix(labelstest,predictionstest)\n",
    "print(\"The Confusion Matrix is : \" , conf_matrix)\n",
    "np.set_printoptions(precision=2)\n",
    "plt.figure()\n",
    "plot_confusion_matrix(cnf_matrix,classes=lb.classes_,title='svm Confusion matrix ')\n",
    "plt.show()"
   ]
  },
  {
   "cell_type": "code",
   "execution_count": 69,
   "id": "ba1abaad",
   "metadata": {},
   "outputs": [],
   "source": [
    "# 2.5.4 Compute the AUC"
   ]
  },
  {
   "cell_type": "code",
   "execution_count": null,
   "id": "137c2732",
   "metadata": {},
   "outputs": [],
   "source": []
  },
  {
   "cell_type": "code",
   "execution_count": 70,
   "id": "82478072",
   "metadata": {},
   "outputs": [
    {
     "name": "stdout",
     "output_type": "stream",
     "text": [
      " Linear Discriminated Analysis and It's COrresponding Area Under Curve\n",
      "LDA Area Under Curve :  0.8333333333333334\n"
     ]
    }
   ],
   "source": [
    "print(\" Linear Discriminated Analysis and It's COrresponding Area Under Curve\")\n",
    "target_pred_prob = lda.predict_proba(testData)\n",
    "lda_auc = roc_auc_score(testLabels,target_pred_prob[:,1], multi_class='ovr')\n",
    "print(\"LDA Area Under Curve : \" , lda_auc)"
   ]
  },
  {
   "cell_type": "code",
   "execution_count": 71,
   "id": "c288095e",
   "metadata": {},
   "outputs": [],
   "source": [
    "# 2.5.5 Plot ROC"
   ]
  },
  {
   "cell_type": "code",
   "execution_count": null,
   "id": "2cfeec91",
   "metadata": {},
   "outputs": [],
   "source": []
  },
  {
   "cell_type": "code",
   "execution_count": 72,
   "id": "0aa7f2cb",
   "metadata": {},
   "outputs": [
    {
     "data": {
      "image/png": "[encoded data removed]",
      "text/plain": [
       "<Figure size 432x288 with 1 Axes>"
      ]
     },
     "metadata": {
      "needs_background": "light"
     },
     "output_type": "display_data"
    }
   ],
   "source": [
    "fpr = dict()\n",
    "tpr = dict()\n",
    "roc_auc = dict()\n",
    "\n",
    "for i in range(2):\n",
    "    fpr[i], tpr[i], _ = roc_curve(lb.fit_transform(testLabels), target_pred_prob[:, i],pos_label=1)\n",
    "    roc_auc[i] = auc(fpr[i], tpr[i])\n",
    "\n",
    "plt.figure()\n",
    "colors = ['green', 'red']\n",
    "targets = ['status_healthy','status_infected']\n",
    "for i in range(2):\n",
    "    plt.plot(fpr[i], tpr[i], color=colors[i],\n",
    "             linewidth=2.0, label='ROC curve of {0} (area = {1:0.2f})'.format(targets[i], roc_auc[i]))\n",
    "plt.plot([0, 1.05], [0, 1.05], color='navy', linewidth=2.0, linestyle='--')\n",
    "plt.xlim([0.0, 1.05])\n",
    "plt.ylim([0.0, 1.05])\n",
    "plt.xlabel('False Positive Rate')\n",
    "plt.ylabel('True Positive Rate')\n",
    "plt.title('Receiver operating characteristic (ROC) curve')\n",
    "plt.legend(loc=\"lower right\")\n",
    "plt.show()"
   ]
  },
  {
   "cell_type": "code",
   "execution_count": 73,
   "id": "1d8f4721",
   "metadata": {},
   "outputs": [],
   "source": [
    "# 2.6.1 QDA model"
   ]
  },
  {
   "cell_type": "code",
   "execution_count": null,
   "id": "22b5caa3",
   "metadata": {},
   "outputs": [],
   "source": []
  },
  {
   "cell_type": "code",
   "execution_count": 74,
   "id": "e260fa8b",
   "metadata": {},
   "outputs": [
    {
     "name": "stdout",
     "output_type": "stream",
     "text": [
      "[INFO] using 'qda' model\n"
     ]
    },
    {
     "name": "stderr",
     "output_type": "stream",
     "text": [
      "C:\\Users\\acer\\anaconda3\\lib\\site-packages\\sklearn\\discriminant_analysis.py:808: UserWarning: Variables are collinear\n",
      "  warnings.warn(\"Variables are collinear\")\n"
     ]
    },
    {
     "data": {
      "text/plain": [
       "QuadraticDiscriminantAnalysis()"
      ]
     },
     "execution_count": 74,
     "metadata": {},
     "output_type": "execute_result"
    }
   ],
   "source": [
    "# train the model\n",
    "print(\"[INFO] using '{}' model\".format(\"qda\"))\n",
    "qda = models[\"qda\"]\n",
    "qda.fit(trainData,trainLabels)\n",
    "\n",
    "# The main cause of a warning is because of the elements of one vector are a linear function of the elements of another."
   ]
  },
  {
   "cell_type": "code",
   "execution_count": 75,
   "id": "98fbc520",
   "metadata": {},
   "outputs": [],
   "source": [
    "# 2.6.2 Predict the labels for the test data"
   ]
  },
  {
   "cell_type": "code",
   "execution_count": null,
   "id": "5f18bf67",
   "metadata": {},
   "outputs": [],
   "source": []
  },
  {
   "cell_type": "code",
   "execution_count": 76,
   "id": "39d8a9bb",
   "metadata": {},
   "outputs": [
    {
     "name": "stdout",
     "output_type": "stream",
     "text": [
      "make predictions on our data and show a classification report\n",
      "                 precision    recall  f1-score   support\n",
      "\n",
      " Status_Healthy       0.67      1.00      0.80         6\n",
      "Status_infected       1.00      0.25      0.40         4\n",
      "\n",
      "       accuracy                           0.70        10\n",
      "      macro avg       0.83      0.62      0.60        10\n",
      "   weighted avg       0.80      0.70      0.64        10\n",
      "\n"
     ]
    }
   ],
   "source": [
    "print(\"make predictions on our data and show a classification report\")\n",
    "predictions = qda.predict(testData)\n",
    "print(classification_report(testLabels,predictions,target_names=lb.classes_))"
   ]
  },
  {
   "cell_type": "code",
   "execution_count": 77,
   "id": "578b6e19",
   "metadata": {},
   "outputs": [],
   "source": [
    "# 2.6.3 Compute the confusion matrix"
   ]
  },
  {
   "cell_type": "code",
   "execution_count": null,
   "id": "c9e9143b",
   "metadata": {},
   "outputs": [],
   "source": []
  },
  {
   "cell_type": "code",
   "execution_count": 78,
   "id": "b307e7f4",
   "metadata": {},
   "outputs": [
    {
     "name": "stdout",
     "output_type": "stream",
     "text": [
      "make predictions on our data and show a classification report\n",
      "                 precision    recall  f1-score   support\n",
      "\n",
      " Status_Healthy       0.49      0.95      0.65      2760\n",
      "Status_infected       0.36      0.03      0.05      2760\n",
      "\n",
      "       accuracy                           0.49      5520\n",
      "      macro avg       0.43      0.49      0.35      5520\n",
      "   weighted avg       0.43      0.49      0.35      5520\n",
      "\n"
     ]
    }
   ],
   "source": [
    "print(\"make predictions on our data and show a classification report\")\n",
    "predictionstest = qda.predict(datatest)\n",
    "print(classification_report(labelstest,predictionstest,target_names=lb.classes_))"
   ]
  },
  {
   "cell_type": "code",
   "execution_count": 79,
   "id": "6b16262e",
   "metadata": {},
   "outputs": [
    {
     "name": "stdout",
     "output_type": "stream",
     "text": [
      "Confusion matrix, without normalization\n",
      "[[2634  126]\n",
      " [2688   72]]\n"
     ]
    },
    {
     "data": {
      "image/png": "[encoded data removed]",
      "text/plain": [
       "<Figure size 432x288 with 2 Axes>"
      ]
     },
     "metadata": {
      "needs_background": "light"
     },
     "output_type": "display_data"
    }
   ],
   "source": [
    "cnf_matrix = confusion_matrix(labelstest,predictionstest)\n",
    "np.set_printoptions(precision=2)\n",
    "plt.figure()\n",
    "plot_confusion_matrix(cnf_matrix,classes=lb.classes_,title='svm Confusion matrix ')\n",
    "plt.show()"
   ]
  },
  {
   "cell_type": "code",
   "execution_count": 80,
   "id": "9482dc4d",
   "metadata": {},
   "outputs": [
    {
     "name": "stdout",
     "output_type": "stream",
     "text": [
      "[[2634  126]\n",
      " [2688   72]]\n"
     ]
    }
   ],
   "source": [
    "conf_matrix=confusion_matrix(labelstest,predictionstest)\n",
    "print(conf_matrix)"
   ]
  },
  {
   "cell_type": "code",
   "execution_count": 81,
   "id": "218a3f7e",
   "metadata": {},
   "outputs": [],
   "source": [
    "# 2.6.4 Compute the AUC"
   ]
  },
  {
   "cell_type": "code",
   "execution_count": null,
   "id": "764f9650",
   "metadata": {},
   "outputs": [],
   "source": []
  },
  {
   "cell_type": "code",
   "execution_count": 82,
   "id": "dbb8d030",
   "metadata": {},
   "outputs": [
    {
     "name": "stdout",
     "output_type": "stream",
     "text": [
      "0.8333333333333334\n"
     ]
    }
   ],
   "source": [
    "arget_pred_prob = qda.predict_proba(testData)\n",
    "qda_auc = roc_auc_score(testLabels,target_pred_prob[:,1], multi_class='ovr')\n",
    "print(qda_auc)"
   ]
  },
  {
   "cell_type": "code",
   "execution_count": 83,
   "id": "2deeb039",
   "metadata": {},
   "outputs": [],
   "source": [
    "# 2.6.5 Plot ROC"
   ]
  },
  {
   "cell_type": "code",
   "execution_count": null,
   "id": "ba3fb69d",
   "metadata": {},
   "outputs": [],
   "source": []
  },
  {
   "cell_type": "code",
   "execution_count": 84,
   "id": "b9eafb48",
   "metadata": {},
   "outputs": [
    {
     "data": {
      "image/png": "[encoded data removed]",
      "text/plain": [
       "<Figure size 432x288 with 1 Axes>"
      ]
     },
     "metadata": {
      "needs_background": "light"
     },
     "output_type": "display_data"
    }
   ],
   "source": [
    "fpr = dict()\n",
    "tpr = dict()\n",
    "roc_auc = dict()\n",
    "\n",
    "for i in range(2):\n",
    "    fpr[i], tpr[i], _ = roc_curve(lb.fit_transform(testLabels), target_pred_prob[:, i],pos_label=1)\n",
    "    roc_auc[i] = auc(fpr[i], tpr[i])\n",
    "\n",
    "plt.figure()\n",
    "colors = ['green', 'red']\n",
    "targets = ['status_healthy','status_infected']\n",
    "for i in range(2):\n",
    "    plt.plot(fpr[i], tpr[i], color=colors[i],\n",
    "             linewidth=2.0, label='ROC curve of {0} (area = {1:0.2f})'.format(targets[i], roc_auc[i]))\n",
    "plt.plot([0, 1.05], [0, 1.05], color='navy', linewidth=2.0, linestyle='--')\n",
    "plt.xlim([0.0, 1.05])\n",
    "plt.ylim([0.0, 1.05])\n",
    "plt.xlabel('False Positive Rate')\n",
    "plt.ylabel('True Positive Rate')\n",
    "plt.title('Receiver operating characteristic (ROC) curve')\n",
    "plt.legend(loc=\"lower right\")\n",
    "plt.show()"
   ]
  },
  {
   "cell_type": "code",
   "execution_count": 85,
   "id": "9b84f47f",
   "metadata": {},
   "outputs": [],
   "source": [
    "# 2.7.1 Boosting algorithm model"
   ]
  },
  {
   "cell_type": "code",
   "execution_count": null,
   "id": "f2a6951b",
   "metadata": {},
   "outputs": [],
   "source": []
  },
  {
   "cell_type": "code",
   "execution_count": 86,
   "id": "92503945",
   "metadata": {},
   "outputs": [
    {
     "name": "stdout",
     "output_type": "stream",
     "text": [
      "[INFO] using 'ba' model\n"
     ]
    },
    {
     "data": {
      "text/plain": [
       "GradientBoostingClassifier()"
      ]
     },
     "execution_count": 86,
     "metadata": {},
     "output_type": "execute_result"
    }
   ],
   "source": [
    "# train the model\n",
    "print(\"[INFO] using '{}' model\".format(\"ba\"))\n",
    "ba = models[\"gradient_boosing\"]\n",
    "ba.fit(trainData,trainLabels)"
   ]
  },
  {
   "cell_type": "code",
   "execution_count": 87,
   "id": "816d1466",
   "metadata": {},
   "outputs": [],
   "source": [
    "# 2.7.2 Predict the labels for the test data"
   ]
  },
  {
   "cell_type": "code",
   "execution_count": null,
   "id": "93b14f98",
   "metadata": {},
   "outputs": [],
   "source": []
  },
  {
   "cell_type": "code",
   "execution_count": 88,
   "id": "7799a296",
   "metadata": {},
   "outputs": [
    {
     "name": "stdout",
     "output_type": "stream",
     "text": [
      "[INFO] evaluating...\n",
      "                 precision    recall  f1-score   support\n",
      "\n",
      " Status_Healthy       1.00      1.00      1.00         6\n",
      "Status_infected       1.00      1.00      1.00         4\n",
      "\n",
      "       accuracy                           1.00        10\n",
      "      macro avg       1.00      1.00      1.00        10\n",
      "   weighted avg       1.00      1.00      1.00        10\n",
      "\n"
     ]
    }
   ],
   "source": [
    "# make predictions on our data and show a classification report\n",
    "print(\"[INFO] evaluating...\")\n",
    "predictions = ba.predict(testData)\n",
    "print(classification_report(testLabels,predictions,target_names=lb.classes_))"
   ]
  },
  {
   "cell_type": "code",
   "execution_count": 89,
   "id": "d41d391e",
   "metadata": {},
   "outputs": [],
   "source": [
    "# 2.7.3 Compute the confusion matrix"
   ]
  },
  {
   "cell_type": "code",
   "execution_count": null,
   "id": "e8535296",
   "metadata": {},
   "outputs": [],
   "source": []
  },
  {
   "cell_type": "code",
   "execution_count": 90,
   "id": "9fe913a2",
   "metadata": {},
   "outputs": [
    {
     "name": "stdout",
     "output_type": "stream",
     "text": [
      "[INFO] evluating...\n",
      "                 precision    recall  f1-score   support\n",
      "\n",
      " Status_Healthy       0.65      0.86      0.74      2760\n",
      "Status_infected       0.79      0.53      0.64      2760\n",
      "\n",
      "       accuracy                           0.70      5520\n",
      "      macro avg       0.72      0.70      0.69      5520\n",
      "   weighted avg       0.72      0.70      0.69      5520\n",
      "\n"
     ]
    }
   ],
   "source": [
    "# make predictions on our data and show a classification report\n",
    "print(\"[INFO] evluating...\")\n",
    "predictionstest = ba.predict(datatest)\n",
    "print(classification_report(labelstest,predictionstest,target_names=lb.classes_))\n"
   ]
  },
  {
   "cell_type": "code",
   "execution_count": 91,
   "id": "f2b50904",
   "metadata": {},
   "outputs": [],
   "source": [
    "def plot_confusion_matrix(cm,classes,normalize=False,title='Confusion matrix',cmap=plt.cm.Blues):\n",
    "    plt.imshow(cm,interpolation='nearest',cmap=cmap)\n",
    "    plt.title(title)\n",
    "    plt.colorbar()\n",
    "    tick_marks = np.arange(len(classes))\n",
    "    plt.xticks(tick_marks,classes,rotation=90)\n",
    "    plt.yticks(tick_marks,classes)\n",
    "    \n",
    "    if normalize:\n",
    "        cm = cm.astype('float')/cm.sum(axis=1)[:,np.newaxis]\n",
    "        print(\"Normalized confusion matrix\")\n",
    "    else:\n",
    "        print(\"Confusion matrix, without normalization\")\n",
    "    \n",
    "    print(cm)\n",
    "    \n",
    "    thresh = cm.max()/2.\n",
    "    for i,j in itertools.product(range(cm.shape[0]),range(cm.shape[1])):\n",
    "        plt.text(j,i,cm[i,j],horizontalalignment=\"center\",color=\"white\" if cm[i,j] > thresh else \"black\")\n",
    "    \n",
    "    plt.tight_layout()\n",
    "    plt.ylabel('True label')\n",
    "    plt.xlabel('Predicted label')\n"
   ]
  },
  {
   "cell_type": "code",
   "execution_count": 92,
   "id": "1bb40d9b",
   "metadata": {},
   "outputs": [
    {
     "name": "stdout",
     "output_type": "stream",
     "text": [
      "Confusion matrix, without normalization\n",
      "[[2380  380]\n",
      " [1298 1462]]\n"
     ]
    },
    {
     "data": {
      "image/png": "[encoded data removed]",
      "text/plain": [
       "<Figure size 432x288 with 2 Axes>"
      ]
     },
     "metadata": {
      "needs_background": "light"
     },
     "output_type": "display_data"
    }
   ],
   "source": [
    "cnf_matrix = confusion_matrix(labelstest,predictionstest)\n",
    "np.set_printoptions(precision=2)\n",
    "plt.figure()\n",
    "plot_confusion_matrix(cnf_matrix,classes=lb.classes_,title='svm Confusion matrix ')\n",
    "plt.show()"
   ]
  },
  {
   "cell_type": "code",
   "execution_count": 93,
   "id": "b5f08cf4",
   "metadata": {},
   "outputs": [
    {
     "name": "stdout",
     "output_type": "stream",
     "text": [
      "[[2380  380]\n",
      " [1298 1462]]\n"
     ]
    }
   ],
   "source": [
    "conf_matrix=confusion_matrix(labelstest,predictionstest)\n",
    "print(conf_matrix)"
   ]
  },
  {
   "cell_type": "code",
   "execution_count": 94,
   "id": "47b5ca6c",
   "metadata": {},
   "outputs": [],
   "source": [
    "# 2.7.4 Compute the AUC"
   ]
  },
  {
   "cell_type": "code",
   "execution_count": null,
   "id": "83504ef8",
   "metadata": {},
   "outputs": [],
   "source": []
  },
  {
   "cell_type": "code",
   "execution_count": 95,
   "id": "cd315ef1",
   "metadata": {},
   "outputs": [
    {
     "name": "stdout",
     "output_type": "stream",
     "text": [
      "1.0\n"
     ]
    }
   ],
   "source": [
    "target_pred_prob = ba.predict_proba(testData)\n",
    "ba_auc = roc_auc_score(testLabels,target_pred_prob[:,1], multi_class='ovr')\n",
    "print(ba_auc)"
   ]
  },
  {
   "cell_type": "code",
   "execution_count": 96,
   "id": "7696c62a",
   "metadata": {},
   "outputs": [],
   "source": [
    "# 2.7.5 Plot ROC"
   ]
  },
  {
   "cell_type": "code",
   "execution_count": null,
   "id": "9cdef212",
   "metadata": {},
   "outputs": [],
   "source": []
  },
  {
   "cell_type": "code",
   "execution_count": 97,
   "id": "fd5e876b",
   "metadata": {},
   "outputs": [
    {
     "data": {
      "image/png": "[encoded data removed]",
      "text/plain": [
       "<Figure size 432x288 with 1 Axes>"
      ]
     },
     "metadata": {
      "needs_background": "light"
     },
     "output_type": "display_data"
    }
   ],
   "source": [
    "fpr = dict()\n",
    "tpr = dict()\n",
    "roc_auc = dict()\n",
    "for i in range(2):\n",
    "    fpr[i], tpr[i], _ = roc_curve(lb.fit_transform(testLabels), target_pred_prob[:, i],pos_label=1)\n",
    "    roc_auc[i] = auc(fpr[i], tpr[i])\n",
    "\n",
    "plt.figure()\n",
    "colors = ['green', 'red']\n",
    "targets = ['status_healthy','status_infected']\n",
    "for i in range(2):\n",
    "    plt.plot(fpr[i], tpr[i], color=colors[i],\n",
    "             linewidth=2.0, label='ROC curve of {0} (area = {1:0.2f})'.format(targets[i], roc_auc[i]))\n",
    "plt.plot([0, 1.05], [0, 1.05], color='navy', linewidth=2.0, linestyle='--')\n",
    "plt.xlim([0.0, 1.05])\n",
    "plt.ylim([0.0, 1.05])\n",
    "plt.xlabel('False Positive Rate')\n",
    "plt.ylabel('True Positive Rate')\n",
    "plt.title('Receiver operating characteristic (ROC) curve')\n",
    "plt.legend(loc=\"lower right\")\n",
    "plt.show()"
   ]
  },
  {
   "cell_type": "code",
   "execution_count": 98,
   "id": "b63a447f",
   "metadata": {},
   "outputs": [],
   "source": [
    "# 7  Out of all classifiers used in this assignment, which would you choose as a\n",
    "#    final model for the malaria data?"
   ]
  },
  {
   "cell_type": "code",
   "execution_count": null,
   "id": "d7a4b19f",
   "metadata": {},
   "outputs": [],
   "source": []
  },
  {
   "cell_type": "code",
   "execution_count": 99,
   "id": "06da90e5",
   "metadata": {},
   "outputs": [],
   "source": [
    "# Random Forest model has a somewhat higher auc value than other models, \n",
    "# according to our observations in the model evaluation. As a result, \n",
    "# I feel Rain Forest Classification is far superior than other classification methods."
   ]
  }
 ],
 "metadata": {
  "kernelspec": {
   "display_name": "Python 3 (ipykernel)",
   "language": "python",
   "name": "python3"
  },
  "language_info": {
   "codemirror_mode": {
    "name": "ipython",
    "version": 3
   },
   "file_extension": ".py",
   "mimetype": "text/x-python",
   "name": "python",
   "nbconvert_exporter": "python",
   "pygments_lexer": "ipython3",
   "version": "3.9.7"
  }
 },
 "nbformat": 4,
 "nbformat_minor": 5
}
